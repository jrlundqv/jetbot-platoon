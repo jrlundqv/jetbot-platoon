{
 "cells": [
  {
   "cell_type": "code",
   "execution_count": 1,
   "id": "supposed-poetry",
   "metadata": {},
   "outputs": [],
   "source": [
    "import cv2\n",
    "import numpy as np\n",
    "import matplotlib.pyplot as plt\n",
    "import os \n",
    "from datetime import datetime  # For timestamps\n",
    "import time  # Additional import that might be useful for delays\n",
    "import numpy as np\n",
    "from jetbot import Robot, Camera\n",
    "\n",
    "\n"
   ]
  },
  {
   "cell_type": "code",
   "execution_count": 2,
   "id": "incoming-fever",
   "metadata": {},
   "outputs": [],
   "source": [
    "#%pip install import-ipynb"
   ]
  },
  {
   "cell_type": "code",
   "execution_count": 3,
   "id": "opening-bridal",
   "metadata": {},
   "outputs": [],
   "source": [
    "#%run ./functions_jetbot/linefollow.ipynb"
   ]
  },
  {
   "cell_type": "code",
   "execution_count": 4,
   "id": "natural-monday",
   "metadata": {},
   "outputs": [],
   "source": [
    "#%pip install ipywidgets"
   ]
  },
  {
   "cell_type": "code",
   "execution_count": 5,
   "id": "decent-grocery",
   "metadata": {},
   "outputs": [],
   "source": [
    "import import_ipynb\n",
    "import ipywidgets as widgets\n",
    "from IPython.display import display"
   ]
  },
  {
   "cell_type": "code",
   "execution_count": 6,
   "id": "close-habitat",
   "metadata": {},
   "outputs": [
    {
     "name": "stdout",
     "output_type": "stream",
     "text": [
      "Start\n"
     ]
    }
   ],
   "source": [
    "from functions_jetbot.linefollow import LineFollower, LineDetector, PIDController"
   ]
  },
  {
   "cell_type": "code",
   "execution_count": 7,
   "id": "pointed-annual",
   "metadata": {},
   "outputs": [],
   "source": [
    "# Creating objects\n",
    "robot = Robot()\n",
    "camera = Camera.instance (width=224, height=224)\n",
    "follower = LineFollower(robot, camera,base_speed=0.4)"
   ]
  },
  {
   "cell_type": "code",
   "execution_count": null,
   "id": "mysterious-enforcement",
   "metadata": {},
   "outputs": [
    {
     "data": {
      "application/vnd.jupyter.widget-view+json": {
       "model_id": "08564388a60e412baeafa76a285af8d9",
       "version_major": 2,
       "version_minor": 0
      },
      "text/plain": [
       "FloatSlider(value=0.3, description='Speed:', max=0.6, min=0.15, step=0.01)"
      ]
     },
     "metadata": {},
     "output_type": "display_data"
    },
    {
     "data": {
      "application/vnd.jupyter.widget-view+json": {
       "model_id": "cbd009dac01044078326e6b3b1e0cc17",
       "version_major": 2,
       "version_minor": 0
      },
      "text/plain": [
       "Button(description='Start', style=ButtonStyle())"
      ]
     },
     "metadata": {},
     "output_type": "display_data"
    },
    {
     "data": {
      "application/vnd.jupyter.widget-view+json": {
       "model_id": "5aecba5b78f84755b4df16169d61a80b",
       "version_major": 2,
       "version_minor": 0
      },
      "text/plain": [
       "Button(description='Stop', style=ButtonStyle())"
      ]
     },
     "metadata": {},
     "output_type": "display_data"
    }
   ],
   "source": [
    "### Task management with threads for final usage\n",
    "\n",
    "\n",
    "import threading\n",
    "import time\n",
    "\n",
    "# Shared data and locks betwwen the tasks\n",
    "\n",
    "shared_data = {\n",
    "    'platoon_speed': 0.3,\n",
    "    'UI_mqtt_data': None,  # Placeholder for UI data from other vehicles\n",
    "    'qr_code_data': None,  # IP address of the vehicle in front\n",
    "    'UI_local': {\n",
    "        'running': False,\n",
    "        'speed': 0.3,\n",
    "        # Add other UI variables as needed\n",
    "    },\n",
    "}\n",
    "\n",
    "\n",
    "\n",
    "def steering_task():\n",
    "    next_call = time.time()\n",
    "    interval = 0.2  # 200ms\n",
    "    while True:\n",
    "        with data_lock:\n",
    "            jetbot_speed = shared_data['UI_local']['speed']\n",
    "            print(\"Actual local speed:\" + str(jetbot_speed))\n",
    "            start = shared_data['UI_local']['running']\n",
    "            try:\n",
    "                print(\"Steering task running\")\n",
    "                perform_steering(jetbot_speed,start)\n",
    "            except Exception as e:\n",
    "                print(f\"Error in steering task: {e}\")\n",
    "        \n",
    "        next_call += interval\n",
    "        sleep_time = next_call - time.time()\n",
    "        if sleep_time > 0:\n",
    "            time.sleep(sleep_time)\n",
    "        else:\n",
    "            print(\"Steering task is behind schedule!\")\n",
    "            next_call = time.time()\n",
    "\n",
    "   \n",
    " \n"
   ]
  },
  {
   "cell_type": "code",
   "execution_count": null,
   "id": "placed-export",
   "metadata": {},
   "outputs": [
    {
     "name": "stdout",
     "output_type": "stream",
     "text": [
      "Actual local speed:0.3\n",
      "Steering task running\n",
      "small raod: 232.33333333333334\n",
      "small road hough\n",
      "Mode 2 lines detected\n",
      "steering angel: 0.25808211488241833\n",
      "Steering task executed at 1732119629.2537892\n",
      "qr code task executed at 1732119629.2734358\n",
      "Speed calculation task executed at 1732119629.321833\n",
      "UI and MQTT task executed at 1732119629.3250754\n",
      "Actual local speed:0.3\n",
      "Steering task running\n",
      "small raod: 232.33333333333334\n",
      "small road hough\n",
      "Mode 2 lines detected\n",
      "steering angel: 0.13021678390668526\n",
      "Steering task executed at 1732119629.439387\n",
      "Actual local speed:0.3\n",
      "Steering task running\n",
      "small raod: 231.33333333333334\n",
      "small road hough\n",
      "Speed calculation task executed at 1732119629.622111\n",
      "Mode 2 lines detected\n",
      "steering angel: 0.26239358368032695\n",
      "Steering task executed at 1732119629.6351469\n",
      "qr code task executed at 1732119629.7732613\n",
      "Actual local speed:0.3\n",
      "Steering task running\n",
      "small raod: 232.5\n",
      "small road hough\n",
      "UI and MQTT task executed at 1732119629.8242497\n",
      "Mode 2 lines detected\n",
      "steering angel: 0.25808211488241833\n",
      "Steering task executed at 1732119629.8352382\n",
      "Speed calculation task executed at 1732119629.9220998\n",
      "Actual local speed:0.3\n",
      "Steering task running\n",
      "small raod: 231.66666666666666\n",
      "small road hough\n",
      "Mode 2 lines detected\n",
      "steering angel: 0.26239358368032695\n",
      "Steering task executed at 1732119630.0344198\n",
      "Actual local speed:0.3\n",
      "Steering task running\n",
      "small raod: 232.0\n",
      "small road hough\n",
      "Speed calculation task executed at 1732119630.2221155\n",
      "Mode 2 lines detected\n",
      "steering angel: 0.12904367566809355\n",
      "Steering task executed at 1732119630.2355533\n",
      "qr code task executed at 1732119630.2731886\n",
      "UI and MQTT task executed at 1732119630.3242645\n",
      "Actual local speed:0.3\n",
      "Steering task running\n",
      "small raod: 232.33333333333334\n",
      "small road hough\n",
      "Mode 2 lines detected\n",
      "steering angel: 0.26239358368032695\n",
      "Steering task executed at 1732119630.4398396\n",
      "Speed calculation task executed at 1732119630.5220609\n",
      "Actual local speed:0.3\n",
      "Steering task running\n",
      "small raod: 232.0\n",
      "small road hough\n",
      "Mode 2 lines detected\n",
      "steering angel: 0.39085342960563896\n",
      "Steering task executed at 1732119630.6343048\n",
      "qr code task executed at 1732119630.7732503\n",
      "Actual local speed:0.3\n",
      "Steering task running\n",
      "small raod: 231.33333333333334\n",
      "small road hough\n",
      "Speed calculation task executed at 1732119630.8221507\n",
      "UI and MQTT task executed at 1732119630.8242424\n",
      "Mode 2 lines detected\n",
      "steering angel: 0.26297224709666495\n",
      "Steering task executed at 1732119630.8345592\n",
      "Actual local speed:0.3\n",
      "Steering task running\n",
      "small raod: 231.33333333333334\n",
      "small road hough\n",
      "Mode 2 lines detected\n",
      "steering angel: 0.26239358368032695\n",
      "Steering task executed at 1732119631.035112\n",
      "Speed calculation task executed at 1732119631.1221225\n",
      "Actual local speed:0.3\n",
      "Steering task running\n",
      "small raod: 231.66666666666666\n",
      "small road hough\n",
      "Mode 2 lines detected\n",
      "steering angel: 0.39085342960563896\n",
      "Steering task executed at 1732119631.2376878\n",
      "qr code task executed at 1732119631.2732062\n",
      "UI and MQTT task executed at 1732119631.3243256\n",
      "Actual local speed:0.3\n",
      "Steering task running\n",
      "small raod: 232.0\n",
      "small road hough\n",
      "Speed calculation task executed at 1732119631.422066\n",
      "Mode 2 lines detected\n",
      "steering angel: 0.26239358368032695\n",
      "Steering task executed at 1732119631.433768\n",
      "Actual local speed:0.3\n",
      "Steering task running\n",
      "small raod: 232.0\n",
      "small road hough\n",
      "Mode 2 lines detected\n",
      "steering angel: 0.12904367566809355\n",
      "Steering task executed at 1732119631.6355402\n",
      "Speed calculation task executed at 1732119631.7221127\n",
      "qr code task executed at 1732119631.7732606\n",
      "Actual local speed:0.3\n",
      "Steering task running\n",
      "small raod: 232.0\n",
      "small road hough\n",
      "UI and MQTT task executed at 1732119631.8242624\n",
      "Mode 2 lines detected\n",
      "steering angel: 0.12962757575069295\n",
      "Steering task executed at 1732119631.8379455\n",
      "Actual local speed:0.3\n",
      "Steering task running\n",
      "small raod: 231.5\n",
      "small road hough\n",
      "Speed calculation task executed at 1732119632.0221007\n",
      "Mode 2 lines detected\n",
      "steering angel: 0.26239358368032695\n",
      "Steering task executed at 1732119632.0343685\n",
      "Actual local speed:0.3\n",
      "Steering task running\n",
      "small raod: 231.83333333333334\n",
      "small road hough\n",
      "Mode 2 lines detected\n",
      "steering angel: 0.13392857142857142\n",
      "Steering task executed at 1732119632.2385495\n",
      "qr code task executed at 1732119632.2731922\n",
      "Speed calculation task executed at 1732119632.322109\n",
      "UI and MQTT task executed at 1732119632.3242946\n",
      "Actual local speed:0.3\n",
      "Steering task running\n",
      "small raod: 232.0\n",
      "small road hough\n",
      "Mode 2 lines detected\n",
      "steering angel: 0.26297224709666495\n",
      "Steering task executed at 1732119632.4417095\n",
      "Actual local speed:0.3\n",
      "Steering task running\n",
      "small raod: 232.16666666666666\n",
      "small road hough\n",
      "Speed calculation task executed at 1732119632.622122\n",
      "Mode 2 lines detected\n"
     ]
    }
   ],
   "source": [
    "if __name__ == \"__main__\":\n",
    "    # Create threads for each task\n",
    "    steering_thread = threading.Thread(target=steering_task)\n",
    "    \n",
    "    \n",
    "    # Start the threads\n",
    "    steering_thread.start()\n",
    "    \n",
    "\n",
    "   "
   ]
  },
  {
   "cell_type": "code",
   "execution_count": null,
   "id": "noble-research",
   "metadata": {},
   "outputs": [],
   "source": []
  },
  {
   "cell_type": "code",
   "execution_count": null,
   "id": "veterinary-usage",
   "metadata": {},
   "outputs": [],
   "source": [
    "# Call of just the line folloewer\n",
    "\n",
    "    try:\n",
    "        # Start line following\n",
    "        follower.follow_line()\n",
    "    except Exception as e:\n",
    "        print(f\"Error: {e}\")\n",
    "    finally:\n",
    "        # Make sure robot stops\n",
    "        follower.stop()\n",
    "        camera.stop()\n",
    "        robot.stop()"
   ]
  },
  {
   "cell_type": "code",
   "execution_count": null,
   "id": "automatic-samoa",
   "metadata": {},
   "outputs": [],
   "source": [
    "camera.stop()\n",
    "robot.stop()"
   ]
  }
 ],
 "metadata": {
  "kernelspec": {
   "display_name": "Python 3",
   "language": "python",
   "name": "python3"
  },
  "language_info": {
   "codemirror_mode": {
    "name": "ipython",
    "version": 3
   },
   "file_extension": ".py",
   "mimetype": "text/x-python",
   "name": "python",
   "nbconvert_exporter": "python",
   "pygments_lexer": "ipython3",
   "version": "3.6.9"
  }
 },
 "nbformat": 4,
 "nbformat_minor": 5
}
