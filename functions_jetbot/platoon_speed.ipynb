{
 "cells": [
  {
   "cell_type": "code",
   "execution_count": 3,
   "id": "described-property",
   "metadata": {},
   "outputs": [],
   "source": [
    "#%pip install smbus2"
   ]
  },
  {
   "cell_type": "code",
   "execution_count": 4,
   "id": "increased-detective",
   "metadata": {},
   "outputs": [],
   "source": [
    "#%pip install vl53l1x"
   ]
  },
  {
   "cell_type": "code",
   "execution_count": 5,
   "id": "inside-proposition",
   "metadata": {},
   "outputs": [],
   "source": [
    "import VL53L1X\n",
    "from time import sleep"
   ]
  },
  {
   "cell_type": "code",
   "execution_count": 6,
   "id": "opposed-wilson",
   "metadata": {},
   "outputs": [],
   "source": [
    "tof = VL53L1X.VL53L1X(i2c_bus=1, i2c_address=0x29)"
   ]
  },
  {
   "cell_type": "code",
   "execution_count": 7,
   "id": "alpine-nature",
   "metadata": {},
   "outputs": [],
   "source": [
    "tof.open()\n",
    "tof.set_timing(66000, 70)\n",
    "tof.start_ranging(0)"
   ]
  },
  {
   "cell_type": "code",
   "execution_count": 8,
   "id": "prerequisite-breeding",
   "metadata": {},
   "outputs": [
    {
     "name": "stdout",
     "output_type": "stream",
     "text": [
      "57\n",
      "83\n",
      "83\n",
      "87\n",
      "78\n",
      "133\n",
      "155\n",
      "20\n",
      "11\n",
      "11\n",
      "11\n",
      "7\n",
      "11\n",
      "10\n",
      "13\n",
      "9\n",
      "8\n",
      "7\n",
      "15\n",
      "60\n",
      "71\n",
      "71\n",
      "73\n",
      "73\n",
      "73\n",
      "71\n",
      "70\n",
      "72\n",
      "70\n",
      "99\n",
      "29\n",
      "27\n",
      "31\n",
      "11\n",
      "7\n",
      "85\n",
      "168\n",
      "106\n",
      "82\n",
      "88\n",
      "138\n",
      "131\n",
      "131\n",
      "27\n",
      "9\n",
      "8\n",
      "7\n",
      "5\n",
      "9\n",
      "10\n",
      "4\n",
      "6\n",
      "9\n",
      "5\n",
      "101\n",
      "47\n",
      "71\n",
      "86\n",
      "74\n",
      "75\n",
      "80\n",
      "99\n",
      "113\n",
      "126\n",
      "137\n",
      "141\n",
      "143\n",
      "155\n",
      "154\n",
      "147\n",
      "22\n",
      "8\n",
      "7\n",
      "0\n",
      "26\n",
      "9\n",
      "6\n",
      "9\n",
      "9\n",
      "9\n",
      "8\n",
      "8\n",
      "8\n",
      "15\n",
      "56\n",
      "67\n"
     ]
    },
    {
     "ename": "KeyboardInterrupt",
     "evalue": "",
     "output_type": "error",
     "traceback": [
      "\u001b[0;31m\u001b[0m",
      "\u001b[0;31mKeyboardInterrupt\u001b[0mTraceback (most recent call last)",
      "\u001b[0;32m<ipython-input-8-bdd042001014>\u001b[0m in \u001b[0;36m<module>\u001b[0;34m\u001b[0m\n\u001b[1;32m      1\u001b[0m \u001b[0;32mwhile\u001b[0m \u001b[0;32mTrue\u001b[0m\u001b[0;34m:\u001b[0m\u001b[0;34m\u001b[0m\u001b[0;34m\u001b[0m\u001b[0m\n\u001b[1;32m      2\u001b[0m     \u001b[0mprint\u001b[0m\u001b[0;34m(\u001b[0m\u001b[0mtof\u001b[0m\u001b[0;34m.\u001b[0m\u001b[0mget_distance\u001b[0m\u001b[0;34m(\u001b[0m\u001b[0;34m)\u001b[0m\u001b[0;34m)\u001b[0m\u001b[0;34m\u001b[0m\u001b[0;34m\u001b[0m\u001b[0m\n\u001b[0;32m----> 3\u001b[0;31m     \u001b[0msleep\u001b[0m\u001b[0;34m(\u001b[0m\u001b[0;36m1\u001b[0m\u001b[0;34m)\u001b[0m\u001b[0;34m\u001b[0m\u001b[0;34m\u001b[0m\u001b[0m\n\u001b[0m",
      "\u001b[0;31mKeyboardInterrupt\u001b[0m: "
     ]
    }
   ],
   "source": [
    "while True:\n",
    "    print(tof.get_distance())\n",
    "    sleep(1)"
   ]
  },
  {
   "cell_type": "code",
   "execution_count": null,
   "id": "chief-tyler",
   "metadata": {},
   "outputs": [],
   "source": []
  }
 ],
 "metadata": {
  "kernelspec": {
   "display_name": "Python 3",
   "language": "python",
   "name": "python3"
  },
  "language_info": {
   "codemirror_mode": {
    "name": "ipython",
    "version": 3
   },
   "file_extension": ".py",
   "mimetype": "text/x-python",
   "name": "python",
   "nbconvert_exporter": "python",
   "pygments_lexer": "ipython3",
   "version": "3.6.9"
  }
 },
 "nbformat": 4,
 "nbformat_minor": 5
}
