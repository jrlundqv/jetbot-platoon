{
 "cells": [
  {
   "cell_type": "code",
   "execution_count": 2,
   "id": "naval-silly",
   "metadata": {},
   "outputs": [
    {
     "name": "stdout",
     "output_type": "stream",
     "text": [
      "This JetBot is the Leader with IP: 192.168.1.12\n",
      "Connected to broker successfully.\n",
      "Received on platoon/status: {'position': 9.572388322901341}\n",
      "Received on platoon/followers: Acknowledged: move\n",
      "Received on platoon/status: {'position': 8.706315696763774}\n",
      "Received on platoon/status: {'position': 6.553450327885012}\n"
     ]
    },
    {
     "name": "stdin",
     "output_type": "stream",
     "text": [
      "Enter command for followers (e.g., 'move', 'stop', 'move right', 'move left','speed up','slow down'):  move\n"
     ]
    },
    {
     "name": "stdout",
     "output_type": "stream",
     "text": [
      "Command 'move' sent to followers.\n",
      "Received on platoon/followers: Acknowledged: move\n"
     ]
    },
    {
     "name": "stdin",
     "output_type": "stream",
     "text": [
      "Send sync signal (e.g., 'sync', 'align') or leave blank:  \n"
     ]
    },
    {
     "name": "stdout",
     "output_type": "stream",
     "text": [
      "Received on platoon/status: {'position': 8.38625180356296}\n",
      "Received on platoon/status: {'position': 7.7593347798877375}\n"
     ]
    },
    {
     "name": "stdin",
     "output_type": "stream",
     "text": [
      "Enter command for followers (e.g., 'move', 'stop', 'move right', 'move left','speed up','slow down'):  move left\n"
     ]
    },
    {
     "name": "stdout",
     "output_type": "stream",
     "text": [
      "Command 'move left' sent to followers.\n",
      "Received on platoon/followers: Acknowledged: move left\n",
      "Received on platoon/status: {'position': 0.7014014912589983}\n",
      "Received on platoon/status: {'position': 6.105077083470607}\n",
      "Received on platoon/status: {'position': 2.272129925449061}\n",
      "Received on platoon/status: {'position': 5.450095496320242}\n",
      "Received on platoon/status: {'position': 7.523456544586034}\n",
      "Exiting command loop...\n",
      "Disconnected cleanly.\n"
     ]
    }
   ],
   "source": [
    "import paho.mqtt.client as mqtt\n",
    "import time\n",
    "import threading\n",
    "\n",
    "# MQTT settings\n",
    "BROKER = \"158.39.162.129\"\n",
    "PORT = 1883\n",
    "\n",
    "ROLE = \"leader\"  # Define this JetBot as the leader\n",
    "LEADER_IP = \"192.168.1.12\"  # Default IP for leader\n",
    "\n",
    "if ROLE == \"leader\":\n",
    "    print(f\"This JetBot is the Leader with IP: {LEADER_IP}\")\n",
    "else:\n",
    "    print(\"Error: Role not defined properly\")\n",
    "    exit()\n",
    "\n",
    "TOPIC_LEADER = \"platoon/leader\"\n",
    "TOPIC_FOLLOWERS = \"platoon/followers\"\n",
    "TOPIC_STATUS = \"platoon/status\"\n",
    "TOPIC_SYNC = \"platoon/sync\"\n",
    "TOPIC_HEARTBEAT = \"platoon/heartbeat\"\n",
    "\n",
    "# Initialize the MQTT client\n",
    "client = mqtt.Client()\n",
    "\n",
    "# Callback when connected to the broker\n",
    "def on_connect(client, userdata, flags, rc):\n",
    "    if rc == 0:\n",
    "        print(\"Connected to broker successfully.\")\n",
    "        client.subscribe([(TOPIC_FOLLOWERS, 0), (TOPIC_STATUS, 0)])\n",
    "        client.publish(TOPIC_LEADER, \"move\", retain=True)\n",
    "    else:\n",
    "        print(f\"Connection failed with code {rc}\")\n",
    "\n",
    "# Callback when disconnected from the broker\n",
    "def on_disconnect(client, userdata, rc):\n",
    "    if rc != 0:\n",
    "        print(\"Unexpected disconnection. Reconnecting...\")\n",
    "    else:\n",
    "        print(\"Disconnected cleanly.\")\n",
    "\n",
    "# Callback for received messages\n",
    "def on_message(client, userdata, msg):\n",
    "    print(f\"Received on {msg.topic}: {msg.payload.decode()}\")\n",
    "\n",
    "# Heartbeat thread to notify followers the leader is online\n",
    "def send_heartbeat():\n",
    "    try:\n",
    "        while True:\n",
    "            client.publish(TOPIC_HEARTBEAT, \"leader_online\")\n",
    "            time.sleep(10)  # Adjust heartbeat interval as needed\n",
    "    except Exception as e:\n",
    "        print(f\"Heartbeat error: {e}\")\n",
    "\n",
    "# Command and synchronization loop\n",
    "def command_loop():\n",
    "    try:\n",
    "        while True:\n",
    "            # Send commands to followers\n",
    "            command = input(\"Enter command for followers (e.g., 'move', 'stop', 'move right', 'move left','speed up','slow down'): \")\n",
    "            client.publish(TOPIC_LEADER, command)\n",
    "            print(f\"Command '{command}' sent to followers.\")\n",
    "\n",
    "            # Send sync signals to followers\n",
    "            sync_signal = input(\"Send sync signal (e.g., 'sync', 'align') or leave blank: \")\n",
    "            if sync_signal:\n",
    "                client.publish(TOPIC_SYNC, sync_signal)\n",
    "                print(f\"Sync signal '{sync_signal}' sent to followers.\")\n",
    "\n",
    "            time.sleep(1)  # Add a short delay between iterations\n",
    "    except KeyboardInterrupt:\n",
    "        print(\"Exiting command loop...\")\n",
    "    finally:\n",
    "        client.loop_stop()\n",
    "        client.disconnect()\n",
    "\n",
    "# Setup MQTT client callbacks\n",
    "client.on_connect = on_connect\n",
    "client.on_disconnect = on_disconnect\n",
    "client.on_message = on_message\n",
    "\n",
    "# Connect to the broker\n",
    "try:\n",
    "    client.connect(BROKER, PORT, keepalive=60)\n",
    "except Exception as e:\n",
    "    print(f\"Error connecting to broker: {e}\")\n",
    "    exit()\n",
    "\n",
    "# Start MQTT loop and heartbeat thread\n",
    "client.loop_start()\n",
    "heartbeat_thread = threading.Thread(target=send_heartbeat, daemon=True)\n",
    "heartbeat_thread.start()\n",
    "\n",
    "# Start the command loop\n",
    "command_loop()\n"
   ]
  },
  {
   "cell_type": "code",
   "execution_count": null,
   "id": "marked-cyprus",
   "metadata": {},
   "outputs": [],
   "source": []
  }
 ],
 "metadata": {
  "kernelspec": {
   "display_name": "Python 3",
   "language": "python",
   "name": "python3"
  },
  "language_info": {
   "codemirror_mode": {
    "name": "ipython",
    "version": 3
   },
   "file_extension": ".py",
   "mimetype": "text/x-python",
   "name": "python",
   "nbconvert_exporter": "python",
   "pygments_lexer": "ipython3",
   "version": "3.6.9"
  }
 },
 "nbformat": 4,
 "nbformat_minor": 5
}
