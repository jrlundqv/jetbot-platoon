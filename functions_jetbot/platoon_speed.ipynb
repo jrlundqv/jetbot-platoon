{
 "cells": [
  {
   "cell_type": "code",
   "execution_count": 1,
   "id": "expressed-williams",
   "metadata": {},
   "outputs": [],
   "source": [
    "#%pip install smbus2"
   ]
  },
  {
   "cell_type": "code",
   "execution_count": 2,
   "id": "aggressive-membership",
   "metadata": {},
   "outputs": [],
   "source": [
    "#%pip install vl53l1x"
   ]
  },
  {
   "cell_type": "code",
   "execution_count": 3,
   "id": "southwest-smart",
   "metadata": {},
   "outputs": [],
   "source": [
    "import VL53L1X\n",
    "from time import sleep"
   ]
  },
  {
   "cell_type": "code",
   "execution_count": 4,
   "id": "internal-actress",
   "metadata": {},
   "outputs": [],
   "source": [
    "tof = VL53L1X.VL53L1X(i2c_bus=1, i2c_address=0x29)"
   ]
  },
  {
   "cell_type": "code",
   "execution_count": 5,
   "id": "intensive-yugoslavia",
   "metadata": {},
   "outputs": [],
   "source": [
    "tof.open()\n",
    "tof.set_timing(66000, 70)\n",
    "tof.start_ranging(0)"
   ]
  },
  {
   "cell_type": "markdown",
   "id": "passing-stomach",
   "metadata": {},
   "source": [
    "while True:\n",
    "    print(tof.get_distance())\n",
    "    sleep(1)"
   ]
  },
  {
   "cell_type": "code",
   "execution_count": null,
   "id": "subject-defensive",
   "metadata": {},
   "outputs": [],
   "source": [
    "def adjust_speed():\n",
    "    distance = tof.get_distance()\n",
    "    speed_adjust = 0\n",
    "\n",
    "    if distance < 400:\n",
    "        if distance > 300:\n",
    "            speed_adjust = -0.01\n",
    "        elif distance > 250:\n",
    "            speed_adjust = -0.02\n",
    "        elif distance > 200:\n",
    "            speed_adjust = -0.03\n",
    "        elif distance > 150:\n",
    "            speed_adjust = -0.05\n",
    "        \n",
    "    return speed_adjust"
   ]
  }
 ],
 "metadata": {
  "kernelspec": {
   "display_name": "Python 3",
   "language": "python",
   "name": "python3"
  },
  "language_info": {
   "codemirror_mode": {
    "name": "ipython",
    "version": 3
   },
   "file_extension": ".py",
   "mimetype": "text/x-python",
   "name": "python",
   "nbconvert_exporter": "python",
   "pygments_lexer": "ipython3",
   "version": "3.6.9"
  }
 },
 "nbformat": 4,
 "nbformat_minor": 5
}
