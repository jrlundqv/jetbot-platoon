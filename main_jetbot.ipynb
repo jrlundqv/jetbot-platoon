{
 "cells": [
  {
   "cell_type": "code",
   "execution_count": 5,
   "id": "considerable-devil",
   "metadata": {},
   "outputs": [],
   "source": [
    "import cv2\n",
    "import numpy as np\n",
    "import matplotlib.pyplot as plt\n",
    "import os \n",
    "from datetime import datetime  # For timestamps\n",
    "import time  # Additional import that might be useful for delays\n",
    "import numpy as np\n",
    "from jetbot import Robot, Camera\n"
   ]
  },
  {
   "cell_type": "code",
   "execution_count": 2,
   "id": "informational-summer",
   "metadata": {},
   "outputs": [],
   "source": [
    "#%pip install import-ipynb"
   ]
  },
  {
   "cell_type": "code",
   "execution_count": 4,
   "id": "literary-pizza",
   "metadata": {},
   "outputs": [],
   "source": [
    "#%run ./functions_jetbot/linefollow.ipynb"
   ]
  },
  {
   "cell_type": "code",
   "execution_count": 6,
   "id": "through-depth",
   "metadata": {},
   "outputs": [],
   "source": [
    "import import_ipynb\n"
   ]
  },
  {
   "cell_type": "code",
   "execution_count": 7,
   "id": "compatible-original",
   "metadata": {},
   "outputs": [],
   "source": [
    "from functions_jetbot.linefollow import LineFollower, LineDetector, PIDController"
   ]
  },
  {
   "cell_type": "code",
   "execution_count": null,
   "id": "deluxe-worship",
   "metadata": {},
   "outputs": [],
   "source": [
    "    robot = Robot()\n",
    "    camera = Camera.instance (width=224, height=224)\n",
    "    follower = LineFollower(robot, camera,base_speed=0.3)\n",
    "   \n",
    "    try:\n",
    "        # Start line following\n",
    "        follower.follow_line()\n",
    "    except Exception as e:\n",
    "        print(f\"Error: {e}\")\n",
    "    finally:\n",
    "        # Make sure robot stops\n",
    "        follower.stop()\n",
    "        camera.stop()\n",
    "        robot.stop()"
   ]
  },
  {
   "cell_type": "code",
   "execution_count": null,
   "id": "early-finland",
   "metadata": {},
   "outputs": [],
   "source": [
    "camera.stop()"
   ]
  },
  {
   "cell_type": "code",
   "execution_count": null,
   "id": "fatty-vacuum",
   "metadata": {},
   "outputs": [],
   "source": [
    "robot.stop()"
   ]
  },
  {
   "cell_type": "code",
   "execution_count": null,
   "id": "simplified-governor",
   "metadata": {},
   "outputs": [],
   "source": []
  }
 ],
 "metadata": {
  "kernelspec": {
   "display_name": "Python 3",
   "language": "python",
   "name": "python3"
  },
  "language_info": {
   "codemirror_mode": {
    "name": "ipython",
    "version": 3
   },
   "file_extension": ".py",
   "mimetype": "text/x-python",
   "name": "python",
   "nbconvert_exporter": "python",
   "pygments_lexer": "ipython3",
   "version": "3.6.9"
  }
 },
 "nbformat": 4,
 "nbformat_minor": 5
}
