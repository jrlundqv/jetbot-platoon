{
 "cells": [
  {
   "cell_type": "code",
   "execution_count": 1,
<<<<<<< HEAD
   "id": "advised-works",
=======
   "id": "american-membership",
>>>>>>> df6193e9843f29df3ed888577ef8a42f9f00055d
   "metadata": {},
   "outputs": [],
   "source": [
    "#%pip install smbus2"
   ]
  },
  {
   "cell_type": "code",
   "execution_count": 2,
<<<<<<< HEAD
   "id": "immediate-coast",
=======
   "id": "collaborative-advertiser",
>>>>>>> df6193e9843f29df3ed888577ef8a42f9f00055d
   "metadata": {},
   "outputs": [],
   "source": [
    "#%pip install vl53l1x"
   ]
  },
  {
   "cell_type": "code",
   "execution_count": 3,
<<<<<<< HEAD
   "id": "occupational-shanghai",
=======
   "id": "decreased-wealth",
>>>>>>> df6193e9843f29df3ed888577ef8a42f9f00055d
   "metadata": {},
   "outputs": [],
   "source": [
    "import VL53L1X\n",
    "from time import sleep"
   ]
  },
  {
   "cell_type": "code",
   "execution_count": 4,
<<<<<<< HEAD
   "id": "reasonable-console",
=======
   "id": "waiting-mortality",
>>>>>>> df6193e9843f29df3ed888577ef8a42f9f00055d
   "metadata": {},
   "outputs": [],
   "source": [
    "tof = VL53L1X.VL53L1X(i2c_bus=1, i2c_address=0x29)"
   ]
  },
  {
   "cell_type": "code",
   "execution_count": 5,
<<<<<<< HEAD
   "id": "progressive-claim",
=======
   "id": "medieval-butler",
>>>>>>> df6193e9843f29df3ed888577ef8a42f9f00055d
   "metadata": {},
   "outputs": [],
   "source": [
    "tof.open()\n",
    "tof.set_timing(66000, 70)\n",
    "tof.start_ranging(0)"
   ]
  },
  {
   "cell_type": "markdown",
<<<<<<< HEAD
   "id": "worst-former",
=======
   "id": "gorgeous-bulletin",
>>>>>>> df6193e9843f29df3ed888577ef8a42f9f00055d
   "metadata": {},
   "source": [
    "while True:\n",
    "    print(tof.get_distance())\n",
    "    sleep(1)"
   ]
  },
  {
   "cell_type": "code",
   "execution_count": null,
<<<<<<< HEAD
   "id": "explicit-jenny",
=======
   "id": "german-regression",
>>>>>>> df6193e9843f29df3ed888577ef8a42f9f00055d
   "metadata": {},
   "outputs": [],
   "source": [
    "def adjust_speed():\n",
    "    distance = tof.get_distance()\n",
    "    speed_adjust = 0\n",
    "\n",
    "    if distance < 400:\n",
    "        if distance > 300:\n",
    "            speed_adjust = -0.02\n",
    "        elif distance > 250:\n",
    "            speed_adjust = -0.04\n",
    "        elif distance > 200:\n",
    "            speed_adjust = -0.06\n",
    "        elif distance > 150:\n",
    "            speed_adjust = -0.08\n",
    "        elif distance > 50:\n",
<<<<<<< HEAD
    "            speed_adjust = -0.1\n",
=======
    "            speed_adjust = -0.01\n",
>>>>>>> df6193e9843f29df3ed888577ef8a42f9f00055d
    "        \n",
    "    return speed_adjust"
   ]
  }
 ],
 "metadata": {
  "kernelspec": {
   "display_name": "Python 3",
   "language": "python",
   "name": "python3"
  },
  "language_info": {
   "codemirror_mode": {
    "name": "ipython",
    "version": 3
   },
   "file_extension": ".py",
   "mimetype": "text/x-python",
   "name": "python",
   "nbconvert_exporter": "python",
   "pygments_lexer": "ipython3",
   "version": "3.6.9"
  }
 },
 "nbformat": 4,
 "nbformat_minor": 5
}
