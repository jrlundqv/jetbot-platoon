{
 "cells": [
  {
   "cell_type": "code",
   "execution_count": 1,
   "id": "elegant-commons",
   "metadata": {},
   "outputs": [],
   "source": [
    "import cv2\n",
    "import numpy as np\n",
    "import matplotlib.pyplot as plt\n",
    "import os \n",
    "from datetime import datetime  # For timestamps\n",
    "import time  # Additional import that might be useful for delays\n",
    "import numpy as np\n",
    "from jetbot import Robot, Camera"
   ]
  },
  {
   "cell_type": "code",
   "execution_count": 2,
   "id": "velvet-conjunction",
   "metadata": {},
   "outputs": [],
   "source": [
    "#%pip install import-ipynb"
   ]
  },
  {
   "cell_type": "code",
   "execution_count": 3,
   "id": "coral-simon",
   "metadata": {},
   "outputs": [],
   "source": [
    "#%pip install matplotlib"
   ]
  },
  {
   "cell_type": "code",
   "execution_count": 4,
   "id": "agreed-conservative",
   "metadata": {},
   "outputs": [],
   "source": [
    "#%run ./functions_jetbot/linefollow.ipynb"
   ]
  },
  {
   "cell_type": "code",
   "execution_count": 5,
   "id": "attended-planning",
   "metadata": {},
   "outputs": [],
   "source": [
    "#%pip install ipywidgets"
   ]
  },
  {
   "cell_type": "code",
   "execution_count": 6,
   "id": "lesser-grain",
   "metadata": {},
   "outputs": [],
   "source": [
    "#%pip install pyzbar"
   ]
  },
  {
   "cell_type": "code",
   "execution_count": 7,
   "id": "brown-bathroom",
   "metadata": {},
   "outputs": [],
   "source": [
    "import import_ipynb\n",
    "import ipywidgets as widgets\n",
    "from IPython.display import display"
   ]
  },
  {
   "cell_type": "code",
   "execution_count": 8,
   "id": "variable-humidity",
   "metadata": {},
   "outputs": [
    {
     "name": "stdout",
     "output_type": "stream",
     "text": [
      "Start\n"
     ]
    }
   ],
   "source": [
    "from functions_jetbot.linefollow import LineFollower, LineDetector, PIDController"
   ]
  },
  {
   "cell_type": "code",
   "execution_count": 9,
   "id": "developed-worst",
   "metadata": {},
   "outputs": [],
   "source": [
    "%run functions_jetbot/platoon_speed.ipynb"
   ]
  },
  {
   "cell_type": "code",
   "execution_count": 10,
   "id": "floppy-drawing",
   "metadata": {},
   "outputs": [],
   "source": [
    "# Creating objects\n",
    "robot = Robot()\n",
    "camera = Camera.instance (width=224, height=224)\n",
    "follower = LineFollower(robot, camera,base_speed=0.4)"
   ]
  },
  {
   "cell_type": "code",
   "execution_count": 11,
   "id": "vulnerable-palace",
   "metadata": {},
   "outputs": [
    {
     "data": {
      "application/vnd.jupyter.widget-view+json": {
       "model_id": "8f49289ce4744370989b005775002240",
       "version_major": 2,
       "version_minor": 0
      },
      "text/plain": [
       "FloatSlider(value=0.3, description='Speed:', max=0.6, min=0.15, step=0.01)"
      ]
     },
     "metadata": {},
     "output_type": "display_data"
    },
    {
     "data": {
      "application/vnd.jupyter.widget-view+json": {
       "model_id": "8435df6362534fdaaa1e05a81d547b47",
       "version_major": 2,
       "version_minor": 0
      },
      "text/plain": [
       "Button(description='Start', style=ButtonStyle())"
      ]
     },
     "metadata": {},
     "output_type": "display_data"
    },
    {
     "data": {
      "application/vnd.jupyter.widget-view+json": {
       "model_id": "2b68efec098b446fb532108207465505",
       "version_major": 2,
       "version_minor": 0
      },
      "text/plain": [
       "Button(description='Stop', style=ButtonStyle())"
      ]
     },
     "metadata": {},
     "output_type": "display_data"
    }
   ],
   "source": [
    "### Task management with threads for final usage\n",
    "\n",
    "\n",
    "import threading\n",
    "import time\n",
    "\n",
    "# Shared data and locks betwwen the tasks\n",
    "\n",
    "shared_data = {\n",
    "    'platoon_speed': 0.3,\n",
    "    'UI_mqtt_data': None,  # Placeholder for UI data from other vehicles\n",
    "    'qr_code_data': None,  # IP address of the vehicle in front\n",
    "    'UI_local': {\n",
    "        'running': False,\n",
    "        'speed': 0.3,\n",
    "        # Add other UI variables as needed\n",
    "    },\n",
    "}\n",
    "\n",
    "\n",
    "# Locks for shared data\n",
    "data_lock = threading.Lock()\n",
    "\n",
    "def perform_steering(speed, start_motion):\n",
    "    global shared_data\n",
    "    # Acquire lock to read platoon_speed\n",
    "    \n",
    "    base_platoon_speed = shared_data['platoon_speed']\n",
    "    # Your steering code here, using platoon_speed\n",
    "    try:\n",
    "        # Start line following\n",
    "        follower.follow_line_single(speed, start_motion)\n",
    "    except Exception as e:\n",
    "        print(f\"Error: {e}\")\n",
    "    # Acquire lock to update steering_angle\n",
    "    print(f\"Steering task executed at {time.time()}\")\n",
    "\n",
    "def perform_platoonspeed_calculation():\n",
    "    global shared_data\n",
    "    # Call platoon speed calculation for this jetbot\n",
    "    platoon_speed = 0.3\n",
    "    speed_adjust = adjust_speed()\n",
    "    shared_data[\"UI_local\"][\"speed\"] = platoon_speed + speed_adjust\n",
    "    # Acquire lock to update platoon_speed \n",
    "    shared_data['platoon_speed'] = platoon_speed\n",
    "    print(f\"Speed calculation task executed at {time.time()}\")\n",
    "    \n",
    "def perform_qrcode_extraction():\n",
    "    global shared_data\n",
    "    # Call qr code extraction here --> Niman\n",
    "    time.sleep(0.05)\n",
    "    # Acquire lock to update platoon_speed\n",
    "    shared_data['qr_code_data'] = \"192.168.1.33\" # just an example\n",
    "    print(f\"qr code task executed at {time.time()}\")\n",
    "\n",
    "def perform_ui_mqtt():\n",
    "    global shared_data\n",
    "    # Acquire lock to read shared data\n",
    "    \n",
    "    platoon_speed = shared_data['platoon_speed']\n",
    "    # Read other shared data as needed\n",
    "    # Call here UI and mqtt functions now just placeholder for 100ms\n",
    "    time.sleep(0.1)\n",
    "    # Write necesarry data from UI to the shared variable for internal usage\n",
    "    # ....\n",
    "        \n",
    "    # Your UI and MQTT code here, using steering_angle and platoon_speed\n",
    "    print(f\"UI and MQTT task executed at {time.time()}\")\n",
    "\n",
    "def steering_task():\n",
    "    next_call = time.time()\n",
    "    interval = 0.1  # 200ms\n",
    "    while True:\n",
    "        with data_lock:\n",
    "            jetbot_speed = shared_data['UI_local']['speed']\n",
    "            print(\"Actual local speed:\" + str(jetbot_speed))\n",
    "            start = shared_data['UI_local']['running']\n",
    "            try:\n",
    "                print(\"Steering task running\")\n",
    "                perform_steering(jetbot_speed,start)\n",
    "            except Exception as e:\n",
    "                print(f\"Error in steering task: {e}\")\n",
    "        \n",
    "        next_call += interval\n",
    "        sleep_time = next_call - time.time()\n",
    "        if sleep_time > 0:\n",
    "            time.sleep(sleep_time)\n",
    "        else:\n",
    "            print(\"Steering task is behind schedule!\")\n",
    "            next_call = time.time()\n",
    "\n",
    "def platoonspeed_calculation_task():\n",
    "    next_call = time.time()\n",
    "    interval = 0.3  # 300ms\n",
    "    while True:\n",
    "        try:\n",
    "            perform_platoonspeed_calculation()\n",
    "        except Exception as e:\n",
    "            print(f\"Error in speed calculation task: {e}\")\n",
    "        next_call += interval\n",
    "        sleep_time = next_call - time.time()\n",
    "        if sleep_time > 0:\n",
    "            time.sleep(sleep_time)\n",
    "        else:\n",
    "            print(\"Speed calculation task is behind schedule!\")\n",
    "            next_call = time.time()\n",
    "            \n",
    "def qrcode_extraction_task():\n",
    "    next_call = time.time()\n",
    "    interval = 0.5  # 500ms\n",
    "    while True:\n",
    "        try:\n",
    "            perform_qrcode_extraction()\n",
    "        except Exception as e:\n",
    "            print(f\"Error in Qrcode extraction task: {e}\")\n",
    "        next_call += interval\n",
    "        sleep_time = next_call - time.time()\n",
    "        if sleep_time > 0:\n",
    "            time.sleep(sleep_time)\n",
    "        else:\n",
    "            print(\"Qrcode extraction task is behind schedule!\")\n",
    "            next_call = time.time()\n",
    "\n",
    "def ui_mqtt_task():\n",
    "    next_call = time.time()\n",
    "    interval = 0.5  # 500ms\n",
    "    while True:\n",
    "        try:\n",
    "            perform_ui_mqtt()\n",
    "        except Exception as e:\n",
    "            print(f\"Error in UI and MQTT task: {e}\")\n",
    "        next_call += interval\n",
    "        sleep_time = next_call - time.time()\n",
    "        if sleep_time > 0:\n",
    "            time.sleep(sleep_time)\n",
    "        else:\n",
    "            print(\"UI and MQTT task is behind schedule!\")\n",
    "            next_call = time.time()\n",
    "            \n",
    "            \n",
    "# Create the UI elements\n",
    "speed_slider = widgets.FloatSlider(\n",
    "    value=0.3,\n",
    "    min=0.15,\n",
    "    max=0.6,\n",
    "    step=0.01,\n",
    "    description='Speed:',\n",
    "    continuous_update=True\n",
    ")\n",
    "\n",
    "start_button = widgets.Button(description='Start')\n",
    "stop_button = widgets.Button(description='Stop')\n",
    "\n",
    "# Define the UI event handlers\n",
    "def on_speed_change(change):\n",
    "    with data_lock:\n",
    "        shared_data['UI_local']['speed'] = change['new']\n",
    "    print(f\"Speed adjusted to {change['new']}\")\n",
    "\n",
    "def on_start_button_clicked(b):\n",
    "    with data_lock:\n",
    "        shared_data['UI_local']['running'] = True\n",
    "    print(\"Execution started\")\n",
    "\n",
    "def on_stop_button_clicked(b):\n",
    "    with data_lock:\n",
    "        shared_data['UI_local']['running'] = False\n",
    "    print(\"Execution stopped\")\n",
    "    \n",
    "# Connect the event handlers to the UI elements\n",
    "speed_slider.observe(on_speed_change, names='value')\n",
    "start_button.on_click(on_start_button_clicked)\n",
    "stop_button.on_click(on_stop_button_clicked)\n",
    "\n",
    "# Display the UI\n",
    "display(speed_slider, start_button, stop_button)\n",
    "\n",
    "\n"
   ]
  },
  {
   "cell_type": "code",
   "execution_count": 12,
   "id": "assigned-claim",
   "metadata": {},
   "outputs": [
    {
     "name": "stdout",
     "output_type": "stream",
     "text": [
      "Actual local speed:0.3\n",
      "Steering task running\n",
      "small raod: 10559.0\n",
      "small road hough\n"
     ]
    }
   ],
   "source": [
    "if __name__ == \"__main__\":\n",
    "    # Create threads for each task\n",
    "    steering_thread = threading.Thread(target=steering_task)\n",
    "    speed_thread = threading.Thread(target=platoonspeed_calculation_task)\n",
    "    ui_mqtt_thread = threading.Thread(target=ui_mqtt_task)\n",
    "    qr_thread = threading.Thread(target=qrcode_extraction_task)\n",
    "    \n",
    "    # Start the threads\n",
    "    steering_thread.start()\n",
    "    speed_thread.start()\n",
    "    qr_thread.start()\n",
    "    ui_mqtt_thread.start()\n",
    "\n",
    "   "
   ]
  },
  {
   "cell_type": "code",
   "execution_count": null,
   "id": "objective-thesis",
   "metadata": {},
   "outputs": [],
   "source": []
  },
  {
   "cell_type": "code",
   "execution_count": 13,
   "id": "first-nudist",
   "metadata": {},
   "outputs": [
    {
     "name": "stdout",
     "output_type": "stream",
     "text": [
      "Speed calculation task executed at 1733566473.3182507\n",
      "qr code task executed at 1733566473.3663235\n",
      "Error: 'LineFollower' object has no attribute 'follow_line'\n",
      "UI and MQTT task executed at 1733566473.4104714\n"
     ]
    }
   ],
   "source": [
    "# Call of just the line folloewer\n",
    "\n",
    "    try:\n",
    "        # Start line following\n",
    "        follower.follow_line()\n",
    "    except Exception as e:\n",
    "        print(f\"Error: {e}\")\n",
    "    finally:\n",
    "        # Make sure robot stops\n",
    "        follower.stop()\n",
    "        camera.stop()\n",
    "        robot.stop()"
   ]
  },
  {
   "cell_type": "code",
   "execution_count": 14,
   "id": "lucky-diameter",
   "metadata": {},
   "outputs": [
    {
     "name": "stdout",
     "output_type": "stream",
     "text": [
      "Speed calculation task executed at 1733566473.614533\n",
      "Mode 2 lines detected\n",
      "steering angel: 6.084731690512356\n",
      "Steering task executed at 1733566473.6878035\n",
      "Steering task is behind schedule!\n",
      "Actual local speed:0.44999999999999996\n",
      "Steering task running\n",
      "small raod: 7432.0\n",
      "small road hough\n",
      "qr code task executed at 1733566473.8526223\n",
      "Speed calculation task executed at 1733566473.9061732\n",
      "UI and MQTT task executed at 1733566473.910586\n",
      "Mode 2 lines detected\n",
      "steering angel: 0.6677312763438401\n",
      "Steering task executed at 1733566474.0181887\n",
      "Steering task is behind schedule!\n",
      "Actual local speed:0.4\n",
      "Steering task running\n",
      "small raod: 7432.0\n",
      "small road hough\n",
      "Speed calculation task executed at 1733566474.206313\n",
      "Mode 2 lines detected\n",
      "steering angel: 0.6677312763438401\n",
      "Steering task executed at 1733566474.2789237\n",
      "Steering task is behind schedule!\n",
      "Actual local speed:0.44999999999999996\n",
      "Steering task running\n",
      "small raod: 7432.0\n",
      "small road hough\n",
      "qr code task executed at 1733566474.352728\n",
      "UI and MQTT task executed at 1733566474.4106371\n",
      "Speed calculation task executed at 1733566474.5063279\n",
      "Mode 2 lines detected\n",
      "steering angel: 0.6677312763438401\n",
      "Steering task executed at 1733566474.5380325\n",
      "Steering task is behind schedule!\n",
      "Actual local speed:0.44999999999999996\n",
      "Steering task running\n",
      "small raod: 7432.0\n",
      "small road hough\n",
      "Mode 2 lines detected\n",
      "steering angel: 0.6677312763438401\n",
      "Steering task executed at 1733566474.797487\n",
      "Steering task is behind schedule!\n",
      "Actual local speed:0.44999999999999996\n",
      "Steering task running\n",
      "small raod: 7432.0\n",
      "small road hough\n",
      "Speed calculation task executed at 1733566474.8078508\n",
      "qr code task executed at 1733566474.8534553\n",
      "UI and MQTT task executed at 1733566474.9105973\n",
      "Mode 2 lines detected\n",
      "steering angel: 0.6677312763438401\n",
      "Steering task executed at 1733566475.066316\n",
      "Steering task is behind schedule!\n",
      "Actual local speed:0.44999999999999996\n",
      "Steering task running\n",
      "small raod: 7432.0\n",
      "small road hough\n",
      "Speed calculation task executed at 1733566475.1065183\n",
      "Mode 2 lines detected\n",
      "steering angel: 0.6677312763438401\n",
      "Steering task executed at 1733566475.3383305\n",
      "Steering task is behind schedule!\n",
      "Actual local speed:0.44999999999999996\n",
      "Steering task running\n",
      "small raod: 7432.0\n",
      "small road hough\n",
      "qr code task executed at 1733566475.3525867\n",
      "Speed calculation task executed at 1733566475.4062603\n",
      "UI and MQTT task executed at 1733566475.410695\n",
      "Mode 2 lines detected\n",
      "steering angel: 0.6677312763438401\n",
      "Steering task executed at 1733566475.6045558\n",
      "Steering task is behind schedule!\n",
      "Actual local speed:0.3\n",
      "Steering task running\n",
      "small raod: 7432.0\n",
      "small road hough\n",
      "Speed calculation task executed at 1733566475.7062\n"
     ]
    }
   ],
   "source": [
    "camera.stop()\n",
    "robot.stop()"
   ]
  }
 ],
 "metadata": {
  "kernelspec": {
   "display_name": "Python 3",
   "language": "python",
   "name": "python3"
  },
  "language_info": {
   "codemirror_mode": {
    "name": "ipython",
    "version": 3
   },
   "file_extension": ".py",
   "mimetype": "text/x-python",
   "name": "python",
   "nbconvert_exporter": "python",
   "pygments_lexer": "ipython3",
   "version": "3.6.9"
  }
 },
 "nbformat": 4,
 "nbformat_minor": 5
}
